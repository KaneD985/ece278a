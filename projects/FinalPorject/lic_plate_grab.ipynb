{
 "cells": [
  {
   "cell_type": "markdown",
   "id": "e1e5c894",
   "metadata": {},
   "source": [
    "#  License Plate Grabber\n",
    "ECE 278A - Image Processing<br/>\n",
    "Winter 2022<br/>\n",
    "\n",
    "Created By:<br/>\n",
    "Roger Lin (yuxilin@ucsb.edu)<br/>\n",
    "Taian Song (taiansong@ucsb.edu)\n"
   ]
  },
  {
   "cell_type": "markdown",
   "id": "43e3d5aa",
   "metadata": {},
   "source": [
    "## Objective\n",
    "The objective of this project is to seperate license plates from images of cars using image processing techniques introduced in the lectures."
   ]
  },
  {
   "cell_type": "markdown",
   "id": "4d840743",
   "metadata": {},
   "source": [
    "## Introduction\n",
    "The data set we use from Caltech contains 126 images of cars taken from the rear. \n",
    "http://www.vision.caltech.edu/Image_Datasets/cars_markus/cars_markus.tar"
   ]
  },
  {
   "cell_type": "markdown",
   "id": "103a929c",
   "metadata": {},
   "source": [
    "## Methods\n",
    "### Packages\n"
   ]
  },
  {
   "cell_type": "markdown",
   "id": "4de5ea62",
   "metadata": {},
   "source": [
    "### Histrogram Matching"
   ]
  },
  {
   "cell_type": "markdown",
   "id": "6f16d87b",
   "metadata": {},
   "source": [
    "### Smoothing"
   ]
  },
  {
   "cell_type": "markdown",
   "id": "b460a3ac",
   "metadata": {},
   "source": [
    "### Segmentation"
   ]
  },
  {
   "cell_type": "markdown",
   "id": "4398f606",
   "metadata": {},
   "source": [
    "### Alignment and Sizing"
   ]
  },
  {
   "cell_type": "markdown",
   "id": "8c759fbe",
   "metadata": {},
   "source": [
    "### Binarization for Text Recognition"
   ]
  },
  {
   "cell_type": "markdown",
   "id": "5ab8fa18",
   "metadata": {},
   "source": [
    "## Summary"
   ]
  },
  {
   "cell_type": "code",
   "execution_count": null,
   "id": "caebbc5f",
   "metadata": {},
   "outputs": [],
   "source": []
  },
  {
   "cell_type": "code",
   "execution_count": null,
   "id": "4bd18769",
   "metadata": {},
   "outputs": [],
   "source": []
  }
 ],
 "metadata": {},
 "nbformat": 4,
 "nbformat_minor": 5
}
